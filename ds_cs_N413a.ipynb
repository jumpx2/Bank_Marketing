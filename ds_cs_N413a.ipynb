{
  "cells": [
    {
      "cell_type": "markdown",
      "metadata": {
        "id": "view-in-github",
        "colab_type": "text"
      },
      "source": [
        "<a href=\"https://colab.research.google.com/github/jumpx2/Bank_Marketing/blob/main/ds_cs_N413a.ipynb\" target=\"_parent\"><img src=\"https://colab.research.google.com/assets/colab-badge.svg\" alt=\"Open In Colab\"/></a>"
      ]
    },
    {
      "cell_type": "markdown",
      "metadata": {
        "id": "pBQsZEJmubLs"
      },
      "source": [
        "<img src='https://user-images.githubusercontent.com/6457691/90080969-0f758d00-dd47-11ea-8191-fa12fd2054a7.png' width = '200' align = 'right'>\n",
        "\n",
        "## *DATA SCIENCE / SECTION 4 / SPRINT 1 / Assingment 3*\n",
        "\n",
        "---\n",
        "# Neural Network Framework (Keras)\n",
        "\n"
      ]
    },
    {
      "cell_type": "markdown",
      "metadata": {
        "id": "nN5Wzlub62DZ"
      },
      "source": [
        "\n",
        "## 기본과제\n",
        "### 케라스 라이브러리를 사용하여 Multi-Layer Perceptron 모델을 CIFAR100 데이터에 적용해보세요.\n",
        "\n",
        "- 시드를 고정하십시오.\n",
        "- 데이터를 Noramlized 해줍니다. \n",
        "- 케라스에서 모델은 다음과 같이 고정합니다. \n",
        "- 은닉층의 활성함수는 ReLU를 사용합니다.\n",
        "- 단계별로 오늘 배운 규제방법을 적용해봅니다. "
      ]
    },
    {
      "cell_type": "code",
      "execution_count": 1,
      "metadata": {
        "id": "SBPLbaggP52G"
      },
      "outputs": [],
      "source": [
        "import keras\n",
        "import tensorflow as tf\n",
        "import numpy as np\n",
        "from tensorflow.keras.datasets import cifar100\n",
        "from tensorflow.keras.models import Sequential\n",
        "from tensorflow.keras.layers import Dense, Flatten, Dropout\n",
        "from tensorflow.keras.optimizers import Adam\n",
        "from tensorflow.keras import regularizers\n",
        "import os\n",
        "import random"
      ]
    },
    {
      "cell_type": "markdown",
      "metadata": {
        "id": "I7nHEuYmd-p6"
      },
      "source": [
        "### 1) Base model을 제작합니다."
      ]
    },
    {
      "cell_type": "code",
      "execution_count": 2,
      "metadata": {
        "id": "_T_3XkVRY2xw",
        "colab": {
          "base_uri": "https://localhost:8080/"
        },
        "outputId": "73eb7023-76a0-4665-99fd-740a1ecbb314"
      },
      "outputs": [
        {
          "output_type": "stream",
          "name": "stdout",
          "text": [
            "Downloading data from https://www.cs.toronto.edu/~kriz/cifar-100-python.tar.gz\n",
            "169009152/169001437 [==============================] - 7s 0us/step\n",
            "169017344/169001437 [==============================] - 7s 0us/step\n",
            "Epoch 1/20\n",
            "500/500 [==============================] - 5s 5ms/step - loss: 4.1253 - accuracy: 0.0704 - val_loss: 3.8673 - val_accuracy: 0.1068\n",
            "Epoch 2/20\n",
            "500/500 [==============================] - 2s 5ms/step - loss: 3.7584 - accuracy: 0.1218 - val_loss: 3.7215 - val_accuracy: 0.1355\n",
            "Epoch 3/20\n",
            "500/500 [==============================] - 2s 5ms/step - loss: 3.6346 - accuracy: 0.1441 - val_loss: 3.6866 - val_accuracy: 0.1463\n",
            "Epoch 4/20\n",
            "500/500 [==============================] - 2s 5ms/step - loss: 3.5535 - accuracy: 0.1582 - val_loss: 3.5995 - val_accuracy: 0.1587\n",
            "Epoch 5/20\n",
            "500/500 [==============================] - 2s 5ms/step - loss: 3.4943 - accuracy: 0.1700 - val_loss: 3.5382 - val_accuracy: 0.1692\n",
            "Epoch 6/20\n",
            "500/500 [==============================] - 2s 5ms/step - loss: 3.4369 - accuracy: 0.1785 - val_loss: 3.5110 - val_accuracy: 0.1752\n",
            "Epoch 7/20\n",
            "500/500 [==============================] - 2s 5ms/step - loss: 3.4013 - accuracy: 0.1869 - val_loss: 3.4931 - val_accuracy: 0.1771\n",
            "Epoch 8/20\n",
            "500/500 [==============================] - 2s 5ms/step - loss: 3.3597 - accuracy: 0.1940 - val_loss: 3.4638 - val_accuracy: 0.1871\n",
            "Epoch 9/20\n",
            "500/500 [==============================] - 2s 5ms/step - loss: 3.3340 - accuracy: 0.1988 - val_loss: 3.4641 - val_accuracy: 0.1857\n",
            "Epoch 10/20\n",
            "500/500 [==============================] - 2s 5ms/step - loss: 3.3123 - accuracy: 0.2009 - val_loss: 3.4050 - val_accuracy: 0.1958\n",
            "Epoch 11/20\n",
            "500/500 [==============================] - 2s 5ms/step - loss: 3.2827 - accuracy: 0.2080 - val_loss: 3.3848 - val_accuracy: 0.2013\n",
            "Epoch 12/20\n",
            "500/500 [==============================] - 2s 5ms/step - loss: 3.2587 - accuracy: 0.2112 - val_loss: 3.3761 - val_accuracy: 0.2000\n",
            "Epoch 13/20\n",
            "500/500 [==============================] - 2s 5ms/step - loss: 3.2362 - accuracy: 0.2164 - val_loss: 3.3970 - val_accuracy: 0.1949\n",
            "Epoch 14/20\n",
            "500/500 [==============================] - 2s 5ms/step - loss: 3.2191 - accuracy: 0.2211 - val_loss: 3.3713 - val_accuracy: 0.2038\n",
            "Epoch 15/20\n",
            "500/500 [==============================] - 2s 5ms/step - loss: 3.2051 - accuracy: 0.2194 - val_loss: 3.3583 - val_accuracy: 0.2066\n",
            "Epoch 16/20\n",
            "500/500 [==============================] - 2s 5ms/step - loss: 3.1897 - accuracy: 0.2247 - val_loss: 3.3785 - val_accuracy: 0.1987\n",
            "Epoch 17/20\n",
            "500/500 [==============================] - 2s 5ms/step - loss: 3.1718 - accuracy: 0.2281 - val_loss: 3.3531 - val_accuracy: 0.2054\n",
            "Epoch 18/20\n",
            "500/500 [==============================] - 2s 5ms/step - loss: 3.1611 - accuracy: 0.2287 - val_loss: 3.3389 - val_accuracy: 0.2138\n",
            "Epoch 19/20\n",
            "500/500 [==============================] - 2s 5ms/step - loss: 3.1479 - accuracy: 0.2308 - val_loss: 3.3307 - val_accuracy: 0.2131\n",
            "Epoch 20/20\n",
            "500/500 [==============================] - 2s 4ms/step - loss: 3.1358 - accuracy: 0.2340 - val_loss: 3.3620 - val_accuracy: 0.2023\n"
          ]
        }
      ],
      "source": [
        "# seed를 고정합니다.\n",
        "random.seed(1)\n",
        "np.random.seed(1)\n",
        "os.environ[\"PYTHONHASHSEED\"] = str(1)\n",
        "os.environ['TF_DETERMINISTIC_OPS'] = str(1)\n",
        "tf.random.set_seed(1)\n",
        "\n",
        "# 데이터 불러오기\n",
        "(X_train, y_train), (X_test, y_test) = cifar100.load_data()\n",
        "\n",
        "# 정규화(전처리)\n",
        "X_train, X_test = X_train / 255.0, X_test / 255.0\n",
        "\n",
        "# 변수 설정을 따로 하는 방법을 적용하기 위한 코드입니다. \n",
        "batch_size = 100\n",
        "epochs_max = 20\n",
        "\n",
        "# model\n",
        "# model = Sequential()\n",
        "# model.add(Flatten(input_shape=(32, 32))\n",
        "# model.add(Dense(128, activation='relu'))\n",
        "# model.add(Dense(128, activation='relu'))\n",
        "# model.add(Dense(100, activation='softmax'))\n",
        "model = tf.keras.models.Sequential([\n",
        "                                    tf.keras.layers.Flatten(input_shape=(32, 32, 3)),\n",
        "                                    tf.keras.layers.Dense(128, activation='relu'),\n",
        "                                    tf.keras.layers.Dense(128, activation='relu'),\n",
        "                                    tf.keras.layers.Dense(100, activation='softmax')\n",
        "])\n",
        "\n",
        "# 컴파일 단계, 옵티마이저와 손실함수, 측정지표를 연결해서 계산 그래프를 구성함\n",
        "model.compile(optimizer='adam', loss='sparse_categorical_crossentropy', metrics=['accuracy'])\n",
        "\n",
        "results = model.fit(X_train, y_train, epochs=epochs_max, batch_size=batch_size, verbose=1, validation_data=(X_test,y_test))"
      ]
    },
    {
      "cell_type": "code",
      "source": [
        "X_train.shape"
      ],
      "metadata": {
        "colab": {
          "base_uri": "https://localhost:8080/"
        },
        "id": "cTRfVsbnY0ok",
        "outputId": "32b057ae-8ee6-453b-9deb-0839c3e2e3d4"
      },
      "execution_count": 3,
      "outputs": [
        {
          "output_type": "execute_result",
          "data": {
            "text/plain": [
              "(50000, 32, 32, 3)"
            ]
          },
          "metadata": {},
          "execution_count": 3
        }
      ]
    },
    {
      "cell_type": "code",
      "execution_count": 4,
      "metadata": {
        "id": "PdxJ5AnieUxI",
        "colab": {
          "base_uri": "https://localhost:8080/"
        },
        "outputId": "0e350cfa-511f-4b2c-8147-56cfc494fbd9"
      },
      "outputs": [
        {
          "output_type": "stream",
          "name": "stdout",
          "text": [
            "313/313 - 1s - loss: 3.3620 - accuracy: 0.2023 - 1s/epoch - 4ms/step\n"
          ]
        }
      ],
      "source": [
        "test_loss, test_acc = model.evaluate(X_test,  y_test, verbose=2)"
      ]
    },
    {
      "cell_type": "markdown",
      "metadata": {
        "id": "5QRkxuLoN5Ah"
      },
      "source": [
        "### 2) + Weight Decay"
      ]
    },
    {
      "cell_type": "code",
      "execution_count": 5,
      "metadata": {
        "id": "XBQks0_rZWa9",
        "colab": {
          "base_uri": "https://localhost:8080/"
        },
        "outputId": "14ff2245-1817-43f1-c032-1cde6808ece6"
      },
      "outputs": [
        {
          "output_type": "stream",
          "name": "stdout",
          "text": [
            "Epoch 1/20\n",
            "500/500 [==============================] - 4s 6ms/step - loss: 4.1302 - accuracy: 0.0713 - val_loss: 3.8702 - val_accuracy: 0.1037\n",
            "Epoch 2/20\n",
            "500/500 [==============================] - 2s 5ms/step - loss: 3.7657 - accuracy: 0.1219 - val_loss: 3.7085 - val_accuracy: 0.1334\n",
            "Epoch 3/20\n",
            "500/500 [==============================] - 2s 5ms/step - loss: 3.6344 - accuracy: 0.1457 - val_loss: 3.6564 - val_accuracy: 0.1454\n",
            "Epoch 4/20\n",
            "500/500 [==============================] - 2s 5ms/step - loss: 3.5569 - accuracy: 0.1580 - val_loss: 3.5786 - val_accuracy: 0.1645\n",
            "Epoch 5/20\n",
            "500/500 [==============================] - 2s 5ms/step - loss: 3.4907 - accuracy: 0.1699 - val_loss: 3.5372 - val_accuracy: 0.1682\n",
            "Epoch 6/20\n",
            "500/500 [==============================] - 2s 5ms/step - loss: 3.4294 - accuracy: 0.1811 - val_loss: 3.4999 - val_accuracy: 0.1763\n",
            "Epoch 7/20\n",
            "500/500 [==============================] - 2s 5ms/step - loss: 3.3905 - accuracy: 0.1873 - val_loss: 3.5011 - val_accuracy: 0.1804\n",
            "Epoch 8/20\n",
            "500/500 [==============================] - 2s 5ms/step - loss: 3.3519 - accuracy: 0.1962 - val_loss: 3.4541 - val_accuracy: 0.1873\n",
            "Epoch 9/20\n",
            "500/500 [==============================] - 2s 5ms/step - loss: 3.3163 - accuracy: 0.2024 - val_loss: 3.4386 - val_accuracy: 0.1878\n",
            "Epoch 10/20\n",
            "500/500 [==============================] - 2s 5ms/step - loss: 3.2952 - accuracy: 0.2058 - val_loss: 3.3961 - val_accuracy: 0.1929\n",
            "Epoch 11/20\n",
            "500/500 [==============================] - 2s 5ms/step - loss: 3.2661 - accuracy: 0.2100 - val_loss: 3.3919 - val_accuracy: 0.1991\n",
            "Epoch 12/20\n",
            "500/500 [==============================] - 2s 5ms/step - loss: 3.2471 - accuracy: 0.2133 - val_loss: 3.3691 - val_accuracy: 0.1980\n",
            "Epoch 13/20\n",
            "500/500 [==============================] - 2s 5ms/step - loss: 3.2224 - accuracy: 0.2188 - val_loss: 3.3863 - val_accuracy: 0.2004\n",
            "Epoch 14/20\n",
            "500/500 [==============================] - 2s 5ms/step - loss: 3.2028 - accuracy: 0.2200 - val_loss: 3.3597 - val_accuracy: 0.2075\n",
            "Epoch 15/20\n",
            "500/500 [==============================] - 2s 5ms/step - loss: 3.1894 - accuracy: 0.2237 - val_loss: 3.3757 - val_accuracy: 0.2018\n",
            "Epoch 16/20\n",
            "500/500 [==============================] - 2s 5ms/step - loss: 3.1786 - accuracy: 0.2259 - val_loss: 3.4114 - val_accuracy: 0.1979\n",
            "Epoch 17/20\n",
            "500/500 [==============================] - 2s 5ms/step - loss: 3.1608 - accuracy: 0.2301 - val_loss: 3.3555 - val_accuracy: 0.2048\n",
            "Epoch 18/20\n",
            "500/500 [==============================] - 2s 5ms/step - loss: 3.1467 - accuracy: 0.2318 - val_loss: 3.3374 - val_accuracy: 0.2099\n",
            "Epoch 19/20\n",
            "500/500 [==============================] - 2s 5ms/step - loss: 3.1353 - accuracy: 0.2351 - val_loss: 3.3489 - val_accuracy: 0.2062\n",
            "Epoch 20/20\n",
            "500/500 [==============================] - 2s 5ms/step - loss: 3.1256 - accuracy: 0.2355 - val_loss: 3.3500 - val_accuracy: 0.2034\n"
          ]
        }
      ],
      "source": [
        "random.seed(1)\n",
        "np.random.seed(1)\n",
        "os.environ[\"PYTHONHASHSEED\"] = str(1)\n",
        "os.environ['TF_DETERMINISTIC_OPS'] = str(1)\n",
        "tf.random.set_seed(1)\n",
        "\n",
        "# 데이터 불러오기\n",
        "(X_train, y_train), (X_test, y_test) = cifar100.load_data()\n",
        "\n",
        "# 정규화(전처리)\n",
        "X_train, X_test = X_train / 255. , X_test / 255.\n",
        "\n",
        "# 변수 설정을 따로 하는 방법을 적용하기 위한 코드입니다. \n",
        "batch_size = 100\n",
        "epochs_max = 20\n",
        "\n",
        "# model\n",
        "model = Sequential()\n",
        "model.add(Flatten(input_shape=(32,32,3)))\n",
        "model.add(Dense(128, activation='relu', \n",
        "                kernel_regularizer=regularizers.l2(0.000001),   \n",
        "                activity_regularizer=regularizers.l1(0.000001)))\n",
        "model.add(Dense(128, activation='relu'))\n",
        "model.add(Dense(100, activation='softmax'))\n",
        "\n",
        "# 컴파일 단계, 옵티마이저와 손실함수, 측정지표를 연결해서 계산 그래프를 구성함\n",
        "model.compile(optimizer='adam', loss='sparse_categorical_crossentropy', metrics=['accuracy'])\n",
        "\n",
        "results = model.fit(X_train, y_train, epochs=epochs_max, batch_size=batch_size, verbose=1, validation_data=(X_test,y_test))"
      ]
    },
    {
      "cell_type": "code",
      "execution_count": 6,
      "metadata": {
        "id": "u2uWuQuEN5Ai",
        "colab": {
          "base_uri": "https://localhost:8080/"
        },
        "outputId": "bac1de12-d3e5-4360-8a70-473b2b9568de"
      },
      "outputs": [
        {
          "output_type": "stream",
          "name": "stdout",
          "text": [
            "313/313 [==============================] - 2s 4ms/step - loss: 3.3500 - accuracy: 0.2034\n"
          ]
        }
      ],
      "source": [
        "test_loss, test_acc = model.evaluate(X_test,  y_test, verbose=1)"
      ]
    },
    {
      "cell_type": "markdown",
      "metadata": {
        "id": "5yQeUcY8fp4x"
      },
      "source": [
        "### 3) + Dropout"
      ]
    },
    {
      "cell_type": "code",
      "execution_count": 9,
      "metadata": {
        "id": "e_B_mosCZ_Ds",
        "colab": {
          "base_uri": "https://localhost:8080/"
        },
        "outputId": "f39cf279-85bb-4ac3-8b40-41a955ff1cfb"
      },
      "outputs": [
        {
          "output_type": "stream",
          "name": "stdout",
          "text": [
            "Epoch 1/20\n",
            "500/500 [==============================] - 4s 6ms/step - loss: 4.1995 - accuracy: 0.0571 - val_loss: 3.9318 - val_accuracy: 0.0942\n",
            "Epoch 2/20\n",
            "500/500 [==============================] - 3s 6ms/step - loss: 3.8951 - accuracy: 0.0975 - val_loss: 3.7577 - val_accuracy: 0.1243\n",
            "Epoch 3/20\n",
            "500/500 [==============================] - 3s 6ms/step - loss: 3.7794 - accuracy: 0.1177 - val_loss: 3.7277 - val_accuracy: 0.1328\n",
            "Epoch 4/20\n",
            "500/500 [==============================] - 3s 6ms/step - loss: 3.7119 - accuracy: 0.1289 - val_loss: 3.6094 - val_accuracy: 0.1597\n",
            "Epoch 5/20\n",
            "500/500 [==============================] - 3s 5ms/step - loss: 3.6596 - accuracy: 0.1368 - val_loss: 3.5977 - val_accuracy: 0.1550\n",
            "Epoch 6/20\n",
            "500/500 [==============================] - 3s 5ms/step - loss: 3.6252 - accuracy: 0.1453 - val_loss: 3.5669 - val_accuracy: 0.1605\n",
            "Epoch 7/20\n",
            "500/500 [==============================] - 3s 5ms/step - loss: 3.5846 - accuracy: 0.1504 - val_loss: 3.5356 - val_accuracy: 0.1667\n",
            "Epoch 8/20\n",
            "500/500 [==============================] - 3s 5ms/step - loss: 3.5697 - accuracy: 0.1519 - val_loss: 3.5048 - val_accuracy: 0.1721\n",
            "Epoch 9/20\n",
            "500/500 [==============================] - 3s 5ms/step - loss: 3.5403 - accuracy: 0.1601 - val_loss: 3.4867 - val_accuracy: 0.1779\n",
            "Epoch 10/20\n",
            "500/500 [==============================] - 3s 5ms/step - loss: 3.5195 - accuracy: 0.1620 - val_loss: 3.5185 - val_accuracy: 0.1688\n",
            "Epoch 11/20\n",
            "500/500 [==============================] - 3s 5ms/step - loss: 3.5055 - accuracy: 0.1641 - val_loss: 3.4647 - val_accuracy: 0.1824\n",
            "Epoch 12/20\n",
            "500/500 [==============================] - 3s 5ms/step - loss: 3.4828 - accuracy: 0.1693 - val_loss: 3.4343 - val_accuracy: 0.1914\n",
            "Epoch 13/20\n",
            "500/500 [==============================] - 3s 5ms/step - loss: 3.4607 - accuracy: 0.1733 - val_loss: 3.4315 - val_accuracy: 0.1864\n",
            "Epoch 14/20\n",
            "500/500 [==============================] - 3s 5ms/step - loss: 3.4553 - accuracy: 0.1742 - val_loss: 3.4235 - val_accuracy: 0.1860\n",
            "Epoch 15/20\n",
            "500/500 [==============================] - 3s 5ms/step - loss: 3.4433 - accuracy: 0.1745 - val_loss: 3.4530 - val_accuracy: 0.1798\n",
            "Epoch 16/20\n",
            "500/500 [==============================] - 3s 5ms/step - loss: 3.4377 - accuracy: 0.1764 - val_loss: 3.4754 - val_accuracy: 0.1773\n",
            "Epoch 17/20\n",
            "500/500 [==============================] - 3s 5ms/step - loss: 3.4230 - accuracy: 0.1776 - val_loss: 3.4135 - val_accuracy: 0.1928\n",
            "Epoch 18/20\n",
            "500/500 [==============================] - 3s 5ms/step - loss: 3.4122 - accuracy: 0.1809 - val_loss: 3.3854 - val_accuracy: 0.1972\n",
            "Epoch 19/20\n",
            "500/500 [==============================] - 3s 5ms/step - loss: 3.4004 - accuracy: 0.1833 - val_loss: 3.3938 - val_accuracy: 0.1942\n",
            "Epoch 20/20\n",
            "500/500 [==============================] - 3s 5ms/step - loss: 3.4017 - accuracy: 0.1801 - val_loss: 3.3700 - val_accuracy: 0.2002\n"
          ]
        }
      ],
      "source": [
        "# seed를 고정합니다.\n",
        "random.seed(1)\n",
        "np.random.seed(1)\n",
        "os.environ[\"PYTHONHASHSEED\"] = str(1)\n",
        "os.environ['TF_DETERMINISTIC_OPS'] = str(1)\n",
        "tf.random.set_seed(1)\n",
        "\n",
        "# 데이터 불러오기\n",
        "(X_train, y_train), (X_test, y_test) = cifar100.load_data()\n",
        "\n",
        "# 정규화(전처리)\n",
        "X_train, X_test = X_train / 255.0, X_test / 255.0\n",
        "\n",
        "# 변수 설정을 따로 하는 방법을 적용하기 위한 코드입니다. \n",
        "batch_size = 100\n",
        "epochs_max = 20\n",
        "\n",
        "# model\n",
        "model = Sequential()\n",
        "model.add(Flatten(input_shape=(32,32,3)))\n",
        "model.add(Dense(128*1.1, activation='relu'))\n",
        "model.add(Dropout(0.1))\n",
        "model.add(Dense(128, activation='relu'))\n",
        "model.add(Dense(100, activation='softmax'))\n",
        "\n",
        "# 컴파일 단계, 옵티마이저와 손실함수, 측정지표를 연결해서 계산 그래프를 구성함\n",
        "model.compile(optimizer='adam', loss='sparse_categorical_crossentropy', metrics=['accuracy'])\n",
        "\n",
        "results = model.fit(X_train, y_train, epochs=epochs_max, batch_size=batch_size, verbose=1, validation_data=(X_test,y_test))\n",
        "\n"
      ]
    },
    {
      "cell_type": "code",
      "source": [
        "model.evaluate(X_test, y_test, verbose=1)"
      ],
      "metadata": {
        "colab": {
          "base_uri": "https://localhost:8080/"
        },
        "id": "riKUp3CSKlrC",
        "outputId": "9e16c613-6db0-43c3-9ba1-bca4cf4225df"
      },
      "execution_count": 10,
      "outputs": [
        {
          "output_type": "stream",
          "name": "stdout",
          "text": [
            "313/313 [==============================] - 2s 4ms/step - loss: 3.3700 - accuracy: 0.2002\n"
          ]
        },
        {
          "output_type": "execute_result",
          "data": {
            "text/plain": [
              "[3.369999885559082, 0.20020000636577606]"
            ]
          },
          "metadata": {},
          "execution_count": 10
        }
      ]
    },
    {
      "cell_type": "markdown",
      "metadata": {
        "id": "Q3RoevKkC27v"
      },
      "source": [
        "### 문항 4) + Early Stopping\n",
        "\n",
        "1. Early Stopping을 적용해봅시다. 멈추는 기준을 `val_loss(검증 데이터셋의 loss 값)`로 하고 loss가 Best 값보다 5번 높아질 때 Stop 하도록 설정합니다.\n",
        "\n",
        "2. Best 모델을 저장해봅시다. Best 모델 역시 멈추는 기준을 `val_loss(검증 데이터셋의 loss 값)`로 하고 `save_best_only=True, save_weights_only=True` 로 설정합니다."
      ]
    },
    {
      "cell_type": "code",
      "execution_count": 11,
      "metadata": {
        "id": "jjj4th3oLjgu",
        "colab": {
          "base_uri": "https://localhost:8080/"
        },
        "outputId": "8070ba91-cd66-4e45-9edb-543b048543f0"
      },
      "outputs": [
        {
          "output_type": "stream",
          "name": "stdout",
          "text": [
            "Epoch 1/50\n",
            "\n",
            "Epoch 00001: val_loss improved from inf to 4.03398, saving model to FMbest.hdf5\n",
            "1000/1000 - 5s - loss: 4.2676 - accuracy: 0.0419 - val_loss: 4.0340 - val_accuracy: 0.0715 - 5s/epoch - 5ms/step\n",
            "Epoch 2/50\n",
            "\n",
            "Epoch 00002: val_loss improved from 4.03398 to 3.94172, saving model to FMbest.hdf5\n",
            "1000/1000 - 3s - loss: 3.9674 - accuracy: 0.0799 - val_loss: 3.9417 - val_accuracy: 0.0859 - 3s/epoch - 3ms/step\n",
            "Epoch 3/50\n",
            "\n",
            "Epoch 00003: val_loss improved from 3.94172 to 3.82408, saving model to FMbest.hdf5\n",
            "1000/1000 - 3s - loss: 3.8548 - accuracy: 0.0991 - val_loss: 3.8241 - val_accuracy: 0.1107 - 3s/epoch - 3ms/step\n",
            "Epoch 4/50\n",
            "\n",
            "Epoch 00004: val_loss improved from 3.82408 to 3.80881, saving model to FMbest.hdf5\n",
            "1000/1000 - 3s - loss: 3.7897 - accuracy: 0.1102 - val_loss: 3.8088 - val_accuracy: 0.1108 - 3s/epoch - 3ms/step\n",
            "Epoch 5/50\n",
            "\n",
            "Epoch 00005: val_loss improved from 3.80881 to 3.72949, saving model to FMbest.hdf5\n",
            "1000/1000 - 3s - loss: 3.7377 - accuracy: 0.1187 - val_loss: 3.7295 - val_accuracy: 0.1266 - 3s/epoch - 3ms/step\n",
            "Epoch 6/50\n",
            "\n",
            "Epoch 00006: val_loss improved from 3.72949 to 3.71681, saving model to FMbest.hdf5\n",
            "1000/1000 - 3s - loss: 3.7088 - accuracy: 0.1221 - val_loss: 3.7168 - val_accuracy: 0.1243 - 3s/epoch - 3ms/step\n",
            "Epoch 7/50\n",
            "\n",
            "Epoch 00007: val_loss did not improve from 3.71681\n",
            "1000/1000 - 3s - loss: 3.6755 - accuracy: 0.1277 - val_loss: 3.7532 - val_accuracy: 0.1148 - 3s/epoch - 3ms/step\n",
            "Epoch 8/50\n",
            "\n",
            "Epoch 00008: val_loss improved from 3.71681 to 3.67200, saving model to FMbest.hdf5\n",
            "1000/1000 - 3s - loss: 3.6472 - accuracy: 0.1329 - val_loss: 3.6720 - val_accuracy: 0.1316 - 3s/epoch - 3ms/step\n",
            "Epoch 9/50\n",
            "\n",
            "Epoch 00009: val_loss did not improve from 3.67200\n",
            "1000/1000 - 3s - loss: 3.6118 - accuracy: 0.1391 - val_loss: 3.6882 - val_accuracy: 0.1326 - 3s/epoch - 3ms/step\n",
            "Epoch 10/50\n",
            "\n",
            "Epoch 00010: val_loss improved from 3.67200 to 3.61986, saving model to FMbest.hdf5\n",
            "1000/1000 - 3s - loss: 3.5792 - accuracy: 0.1462 - val_loss: 3.6199 - val_accuracy: 0.1456 - 3s/epoch - 3ms/step\n",
            "Epoch 11/50\n",
            "\n",
            "Epoch 00011: val_loss improved from 3.61986 to 3.61875, saving model to FMbest.hdf5\n",
            "1000/1000 - 3s - loss: 3.5560 - accuracy: 0.1507 - val_loss: 3.6188 - val_accuracy: 0.1440 - 3s/epoch - 3ms/step\n",
            "Epoch 12/50\n",
            "\n",
            "Epoch 00012: val_loss improved from 3.61875 to 3.61039, saving model to FMbest.hdf5\n",
            "1000/1000 - 3s - loss: 3.5380 - accuracy: 0.1526 - val_loss: 3.6104 - val_accuracy: 0.1491 - 3s/epoch - 3ms/step\n",
            "Epoch 13/50\n",
            "\n",
            "Epoch 00013: val_loss improved from 3.61039 to 3.59922, saving model to FMbest.hdf5\n",
            "1000/1000 - 3s - loss: 3.5240 - accuracy: 0.1538 - val_loss: 3.5992 - val_accuracy: 0.1492 - 3s/epoch - 3ms/step\n",
            "Epoch 14/50\n",
            "\n",
            "Epoch 00014: val_loss did not improve from 3.59922\n",
            "1000/1000 - 3s - loss: 3.5093 - accuracy: 0.1556 - val_loss: 3.6016 - val_accuracy: 0.1474 - 3s/epoch - 3ms/step\n",
            "Epoch 15/50\n",
            "\n",
            "Epoch 00015: val_loss did not improve from 3.59922\n",
            "1000/1000 - 3s - loss: 3.4978 - accuracy: 0.1580 - val_loss: 3.6365 - val_accuracy: 0.1444 - 3s/epoch - 3ms/step\n",
            "Epoch 16/50\n",
            "\n",
            "Epoch 00016: val_loss did not improve from 3.59922\n",
            "1000/1000 - 3s - loss: 3.4874 - accuracy: 0.1612 - val_loss: 3.6123 - val_accuracy: 0.1479 - 3s/epoch - 3ms/step\n",
            "Epoch 17/50\n",
            "\n",
            "Epoch 00017: val_loss did not improve from 3.59922\n",
            "1000/1000 - 3s - loss: 3.4773 - accuracy: 0.1616 - val_loss: 3.6607 - val_accuracy: 0.1402 - 3s/epoch - 3ms/step\n",
            "Epoch 18/50\n",
            "\n",
            "Epoch 00018: val_loss improved from 3.59922 to 3.58733, saving model to FMbest.hdf5\n",
            "1000/1000 - 4s - loss: 3.4635 - accuracy: 0.1644 - val_loss: 3.5873 - val_accuracy: 0.1570 - 4s/epoch - 4ms/step\n",
            "Epoch 19/50\n",
            "\n",
            "Epoch 00019: val_loss did not improve from 3.58733\n",
            "1000/1000 - 3s - loss: 3.4591 - accuracy: 0.1649 - val_loss: 3.6219 - val_accuracy: 0.1513 - 3s/epoch - 3ms/step\n",
            "Epoch 20/50\n",
            "\n",
            "Epoch 00020: val_loss did not improve from 3.58733\n",
            "1000/1000 - 3s - loss: 3.4461 - accuracy: 0.1677 - val_loss: 3.5919 - val_accuracy: 0.1582 - 3s/epoch - 3ms/step\n",
            "Epoch 21/50\n",
            "\n",
            "Epoch 00021: val_loss improved from 3.58733 to 3.56224, saving model to FMbest.hdf5\n",
            "1000/1000 - 3s - loss: 3.4381 - accuracy: 0.1670 - val_loss: 3.5622 - val_accuracy: 0.1620 - 3s/epoch - 3ms/step\n",
            "Epoch 22/50\n",
            "\n",
            "Epoch 00022: val_loss did not improve from 3.56224\n",
            "1000/1000 - 3s - loss: 3.4325 - accuracy: 0.1688 - val_loss: 3.5853 - val_accuracy: 0.1546 - 3s/epoch - 3ms/step\n",
            "Epoch 23/50\n",
            "\n",
            "Epoch 00023: val_loss did not improve from 3.56224\n",
            "1000/1000 - 3s - loss: 3.4165 - accuracy: 0.1715 - val_loss: 3.5934 - val_accuracy: 0.1544 - 3s/epoch - 3ms/step\n",
            "Epoch 24/50\n",
            "\n",
            "Epoch 00024: val_loss improved from 3.56224 to 3.55468, saving model to FMbest.hdf5\n",
            "1000/1000 - 3s - loss: 3.4066 - accuracy: 0.1717 - val_loss: 3.5547 - val_accuracy: 0.1630 - 3s/epoch - 3ms/step\n",
            "Epoch 25/50\n",
            "\n",
            "Epoch 00025: val_loss improved from 3.55468 to 3.54806, saving model to FMbest.hdf5\n",
            "1000/1000 - 3s - loss: 3.3994 - accuracy: 0.1744 - val_loss: 3.5481 - val_accuracy: 0.1632 - 3s/epoch - 3ms/step\n",
            "Epoch 26/50\n",
            "\n",
            "Epoch 00026: val_loss did not improve from 3.54806\n",
            "1000/1000 - 3s - loss: 3.3832 - accuracy: 0.1791 - val_loss: 3.5766 - val_accuracy: 0.1599 - 3s/epoch - 3ms/step\n",
            "Epoch 27/50\n",
            "\n",
            "Epoch 00027: val_loss did not improve from 3.54806\n",
            "1000/1000 - 3s - loss: 3.3827 - accuracy: 0.1763 - val_loss: 3.6092 - val_accuracy: 0.1582 - 3s/epoch - 3ms/step\n",
            "Epoch 28/50\n",
            "\n",
            "Epoch 00028: val_loss did not improve from 3.54806\n",
            "1000/1000 - 3s - loss: 3.3695 - accuracy: 0.1809 - val_loss: 3.5512 - val_accuracy: 0.1681 - 3s/epoch - 3ms/step\n",
            "Epoch 29/50\n",
            "\n",
            "Epoch 00029: val_loss did not improve from 3.54806\n",
            "1000/1000 - 3s - loss: 3.3603 - accuracy: 0.1832 - val_loss: 3.5746 - val_accuracy: 0.1643 - 3s/epoch - 3ms/step\n",
            "Epoch 30/50\n",
            "\n",
            "Epoch 00030: val_loss improved from 3.54806 to 3.54344, saving model to FMbest.hdf5\n",
            "1000/1000 - 3s - loss: 3.3540 - accuracy: 0.1829 - val_loss: 3.5434 - val_accuracy: 0.1722 - 3s/epoch - 3ms/step\n",
            "Epoch 31/50\n",
            "\n",
            "Epoch 00031: val_loss did not improve from 3.54344\n",
            "1000/1000 - 3s - loss: 3.3368 - accuracy: 0.1854 - val_loss: 3.5629 - val_accuracy: 0.1702 - 3s/epoch - 3ms/step\n",
            "Epoch 32/50\n",
            "\n",
            "Epoch 00032: val_loss did not improve from 3.54344\n",
            "1000/1000 - 3s - loss: 3.3268 - accuracy: 0.1896 - val_loss: 3.5787 - val_accuracy: 0.1654 - 3s/epoch - 3ms/step\n",
            "Epoch 33/50\n",
            "\n",
            "Epoch 00033: val_loss did not improve from 3.54344\n",
            "1000/1000 - 5s - loss: 3.3231 - accuracy: 0.1898 - val_loss: 3.5805 - val_accuracy: 0.1679 - 5s/epoch - 5ms/step\n",
            "Epoch 34/50\n",
            "\n",
            "Epoch 00034: val_loss did not improve from 3.54344\n",
            "1000/1000 - 5s - loss: 3.3135 - accuracy: 0.1916 - val_loss: 3.5643 - val_accuracy: 0.1688 - 5s/epoch - 5ms/step\n",
            "Epoch 35/50\n",
            "\n",
            "Epoch 00035: val_loss improved from 3.54344 to 3.54254, saving model to FMbest.hdf5\n",
            "1000/1000 - 4s - loss: 3.3003 - accuracy: 0.1960 - val_loss: 3.5425 - val_accuracy: 0.1702 - 4s/epoch - 4ms/step\n",
            "Epoch 36/50\n",
            "\n",
            "Epoch 00036: val_loss did not improve from 3.54254\n",
            "1000/1000 - 3s - loss: 3.2935 - accuracy: 0.1938 - val_loss: 3.5528 - val_accuracy: 0.1706 - 3s/epoch - 3ms/step\n",
            "Epoch 37/50\n",
            "\n",
            "Epoch 00037: val_loss did not improve from 3.54254\n",
            "1000/1000 - 3s - loss: 3.2876 - accuracy: 0.1971 - val_loss: 3.6634 - val_accuracy: 0.1612 - 3s/epoch - 3ms/step\n",
            "Epoch 38/50\n",
            "\n",
            "Epoch 00038: val_loss improved from 3.54254 to 3.51244, saving model to FMbest.hdf5\n",
            "1000/1000 - 3s - loss: 3.2734 - accuracy: 0.1987 - val_loss: 3.5124 - val_accuracy: 0.1788 - 3s/epoch - 3ms/step\n",
            "Epoch 39/50\n",
            "\n",
            "Epoch 00039: val_loss did not improve from 3.51244\n",
            "1000/1000 - 3s - loss: 3.2670 - accuracy: 0.1999 - val_loss: 3.5229 - val_accuracy: 0.1757 - 3s/epoch - 3ms/step\n",
            "Epoch 40/50\n",
            "\n",
            "Epoch 00040: val_loss did not improve from 3.51244\n",
            "1000/1000 - 3s - loss: 3.2651 - accuracy: 0.2005 - val_loss: 3.5505 - val_accuracy: 0.1723 - 3s/epoch - 3ms/step\n",
            "Epoch 41/50\n",
            "\n",
            "Epoch 00041: val_loss did not improve from 3.51244\n",
            "1000/1000 - 3s - loss: 3.2502 - accuracy: 0.2034 - val_loss: 3.5492 - val_accuracy: 0.1712 - 3s/epoch - 3ms/step\n",
            "Epoch 42/50\n",
            "\n",
            "Epoch 00042: val_loss improved from 3.51244 to 3.49928, saving model to FMbest.hdf5\n",
            "1000/1000 - 3s - loss: 3.2397 - accuracy: 0.2041 - val_loss: 3.4993 - val_accuracy: 0.1829 - 3s/epoch - 3ms/step\n",
            "Epoch 43/50\n",
            "\n",
            "Epoch 00043: val_loss did not improve from 3.49928\n",
            "1000/1000 - 3s - loss: 3.2347 - accuracy: 0.2062 - val_loss: 3.5356 - val_accuracy: 0.1797 - 3s/epoch - 3ms/step\n",
            "Epoch 44/50\n",
            "\n",
            "Epoch 00044: val_loss did not improve from 3.49928\n",
            "1000/1000 - 3s - loss: 3.2314 - accuracy: 0.2057 - val_loss: 3.5260 - val_accuracy: 0.1792 - 3s/epoch - 3ms/step\n",
            "Epoch 45/50\n",
            "\n",
            "Epoch 00045: val_loss did not improve from 3.49928\n",
            "1000/1000 - 3s - loss: 3.2217 - accuracy: 0.2071 - val_loss: 3.5256 - val_accuracy: 0.1781 - 3s/epoch - 3ms/step\n",
            "Epoch 46/50\n",
            "\n",
            "Epoch 00046: val_loss improved from 3.49928 to 3.49507, saving model to FMbest.hdf5\n",
            "1000/1000 - 3s - loss: 3.2138 - accuracy: 0.2100 - val_loss: 3.4951 - val_accuracy: 0.1788 - 3s/epoch - 3ms/step\n",
            "Epoch 47/50\n",
            "\n",
            "Epoch 00047: val_loss did not improve from 3.49507\n",
            "1000/1000 - 3s - loss: 3.2039 - accuracy: 0.2119 - val_loss: 3.4983 - val_accuracy: 0.1873 - 3s/epoch - 3ms/step\n",
            "Epoch 48/50\n",
            "\n",
            "Epoch 00048: val_loss did not improve from 3.49507\n",
            "1000/1000 - 3s - loss: 3.1984 - accuracy: 0.2133 - val_loss: 3.4971 - val_accuracy: 0.1830 - 3s/epoch - 3ms/step\n",
            "Epoch 49/50\n",
            "\n",
            "Epoch 00049: val_loss improved from 3.49507 to 3.48532, saving model to FMbest.hdf5\n",
            "1000/1000 - 3s - loss: 3.1938 - accuracy: 0.2127 - val_loss: 3.4853 - val_accuracy: 0.1816 - 3s/epoch - 3ms/step\n",
            "Epoch 50/50\n",
            "\n",
            "Epoch 00050: val_loss did not improve from 3.48532\n",
            "1000/1000 - 3s - loss: 3.1821 - accuracy: 0.2148 - val_loss: 3.4890 - val_accuracy: 0.1870 - 3s/epoch - 3ms/step\n"
          ]
        }
      ],
      "source": [
        "# seed를 고정합니다.\n",
        "random.seed(1)\n",
        "np.random.seed(1)\n",
        "os.environ[\"PYTHONHASHSEED\"] = str(1)\n",
        "os.environ['TF_DETERMINISTIC_OPS'] = str(1)\n",
        "tf.random.set_seed(1)\n",
        "\n",
        "\n",
        "# 데이터 불러오기\n",
        "(X_train, y_train), (X_test, y_test) = cifar100.load_data()\n",
        "\n",
        "\n",
        "# 정규화(전처리)\n",
        "X_train, X_test = X_train / 255.0, X_test / 255.0\n",
        "\n",
        "\n",
        "# 학습시킨 데이터를 저장시키기 위한 코드입니다. \n",
        "checkpoint_filepath = \"FMbest.hdf5\"\n",
        "\n",
        "\n",
        "# 변수 설정을 따로 하는 방법을 적용하기 위한 코드입니다. \n",
        "batch_size = 100\n",
        "epochs_max = 50\n",
        "\n",
        "\n",
        "model = Sequential()\n",
        "model.add(Flatten(input_shape=(32,32,3)))\n",
        "model.add(Dense(128, activation='relu'))\n",
        "model.add(Dense(128, activation='relu'))\n",
        "model.add(Dense(100, activation='softmax'))\n",
        "\n",
        "# 컴파일 단계, 옵티마이저와 손실함수, 측정지표를 연결해서 계산 그래프를 구성함\n",
        "model.compile(optimizer='adam', loss='sparse_categorical_crossentropy', metrics=['accuracy'])\n",
        "\n",
        "                  \n",
        "# early stopping\n",
        "early_stop = tf.keras.callbacks.EarlyStopping(monitor='val_loss', patience=10,verbose=2 )\n",
        "\n",
        "# Validation Set을 기준으로 가장 최적의 모델을 찾기\n",
        "save_best = keras.callbacks.ModelCheckpoint(filepath=checkpoint_filepath, monitor='val_loss',verbose=2,\n",
        "                                           save_best_only=True, save_weights_only=True, mode='auto',\n",
        "                                           save_freq='epoch', options=None)\n",
        "\n",
        "results = model.fit(X_train, y_train, batch_size=50, epochs=epochs_max, verbose=2,\n",
        "                    validation_data=(X_test, y_test), callbacks=[early_stop, save_best])"
      ]
    },
    {
      "cell_type": "code",
      "execution_count": 12,
      "metadata": {
        "id": "Bk3GSXbfUI91",
        "colab": {
          "base_uri": "https://localhost:8080/"
        },
        "outputId": "22da7c32-86d8-45f0-aec5-5b95512b8e92"
      },
      "outputs": [
        {
          "output_type": "stream",
          "name": "stdout",
          "text": [
            "313/313 [==============================] - 1s 4ms/step - loss: 3.4890 - accuracy: 0.1870\n"
          ]
        }
      ],
      "source": [
        "# 학습된 모델을 이용하여 테스트하는 코드\n",
        "test_loss, test_acc = model.evaluate(X_test,  y_test, verbose=1)"
      ]
    },
    {
      "cell_type": "code",
      "execution_count": 13,
      "metadata": {
        "id": "Nyz7CrMIUNJX",
        "colab": {
          "base_uri": "https://localhost:8080/"
        },
        "outputId": "ae7b6c97-85d9-4bf4-e569-f4d039e421a1"
      },
      "outputs": [
        {
          "output_type": "stream",
          "name": "stdout",
          "text": [
            "313/313 [==============================] - 3s 8ms/step - loss: 3.4853 - accuracy: 0.1816\n"
          ]
        }
      ],
      "source": [
        "model.load_weights(checkpoint_filepath)\n",
        "\n",
        "# best model을 이용한 테스트 데이터 예측 정확도 재확인 코드\n",
        "test_loss, test_acc = model.evaluate(X_test, y_test, verbose=1)"
      ]
    },
    {
      "cell_type": "code",
      "source": [
        ""
      ],
      "metadata": {
        "id": "O6FjhglwMH2g"
      },
      "execution_count": null,
      "outputs": []
    }
  ],
  "metadata": {
    "accelerator": "GPU",
    "colab": {
      "machine_shape": "hm",
      "name": "ds-cs-N423a.ipynb",
      "provenance": [],
      "collapsed_sections": [],
      "include_colab_link": true
    },
    "kernelspec": {
      "display_name": "Python 3 (ipykernel)",
      "language": "python",
      "name": "python3"
    },
    "language_info": {
      "codemirror_mode": {
        "name": "ipython",
        "version": 3
      },
      "file_extension": ".py",
      "mimetype": "text/x-python",
      "name": "python",
      "nbconvert_exporter": "python",
      "pygments_lexer": "ipython3",
      "version": "3.8.0"
    }
  },
  "nbformat": 4,
  "nbformat_minor": 0
}